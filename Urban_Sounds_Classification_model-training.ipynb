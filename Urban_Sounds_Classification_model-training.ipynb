{
  "cells": [
    {
      "cell_type": "markdown",
      "metadata": {
        "id": "view-in-github",
        "colab_type": "text"
      },
      "source": [
        "<a href=\"https://colab.research.google.com/github/alikrc/urban-sounds-classification/blob/main/Urban_Sounds_Classification_model-training.ipynb\" target=\"_parent\"><img src=\"https://colab.research.google.com/assets/colab-badge.svg\" alt=\"Open In Colab\"/></a>"
      ]
    },
    {
      "cell_type": "code",
      "source": [
        "from cv2 import imshow\n",
        "import tensorflow as tf\n",
        "import cv2 \n",
        "import glob\n",
        "# from PIL import Image\n",
        "import pandas as pd\n",
        "import numpy as np\n",
        "import math\n",
        "import sklearn\n",
        "import sklearn.model_selection as ms\n",
        "from google.colab.patches import cv2_imshow\n",
        "from tensorflow import keras\n",
        "from tensorflow.keras import layers"
      ],
      "metadata": {
        "id": "UzyUNUHIYzaU"
      },
      "execution_count": null,
      "outputs": []
    },
    {
      "cell_type": "code",
      "source": [
        "x_train = np.array(x_train)\n",
        "y_train = np.array(y_train)\n",
        "x_val = np.array(x_val)\n",
        "y_val = np.array(y_val)\n",
        "x_test = np.array(x_test)\n",
        "y_test = np.array(y_test)"
      ],
      "metadata": {
        "id": "JZ_4Z8HG9dNi"
      },
      "execution_count": null,
      "outputs": []
    },
    {
      "cell_type": "code",
      "source": [
        "np.shape(x_train), np.shape(y_train)"
      ],
      "metadata": {
        "colab": {
          "base_uri": "https://localhost:8080/"
        },
        "id": "Ys6J47A90bD1",
        "outputId": "f662e7db-a3fc-4271-a0fb-a96d2d78dc11"
      },
      "execution_count": null,
      "outputs": [
        {
          "output_type": "execute_result",
          "data": {
            "text/plain": [
              "((5238, 64, 64), (5238,))"
            ]
          },
          "metadata": {},
          "execution_count": 67
        }
      ]
    },
    {
      "cell_type": "code",
      "source": [
        "np.shape(x_val), np.shape(y_val)"
      ],
      "metadata": {
        "colab": {
          "base_uri": "https://localhost:8080/"
        },
        "id": "Ge2HkQ7M1GS2",
        "outputId": "a81fc944-604e-422a-df20-8e0eee873084"
      },
      "execution_count": null,
      "outputs": [
        {
          "output_type": "execute_result",
          "data": {
            "text/plain": [
              "((1747, 64, 64), (1747,))"
            ]
          },
          "metadata": {},
          "execution_count": 68
        }
      ]
    },
    {
      "cell_type": "code",
      "source": [
        "np.shape(x_test), np.shape(y_test)"
      ],
      "metadata": {
        "colab": {
          "base_uri": "https://localhost:8080/"
        },
        "id": "-Kag-rPw1GKW",
        "outputId": "a751bbf2-2dc0-41d1-a074-c45ac8def174"
      },
      "execution_count": null,
      "outputs": [
        {
          "output_type": "execute_result",
          "data": {
            "text/plain": [
              "((1747, 64, 64), (1747,))"
            ]
          },
          "metadata": {},
          "execution_count": 69
        }
      ]
    },
    {
      "cell_type": "code",
      "source": [
        "model = keras.Sequential(\n",
        "    [\n",
        "        layers.Conv2D(6, kernel_size=(3, 3),strides=(2, 2), padding=\"same\", activation=\"relu\", input_shape=(input_shape, input_shape, 1)),\n",
        "        layers.AveragePooling2D(pool_size=(2, 2), strides=(2, 2),padding=\"valid\"),\n",
        "\n",
        "\n",
        "        layers.Conv2D(16, kernel_size=(3, 3), strides=(2, 2), padding=\"same\", activation=\"relu\"),\n",
        "        layers.AveragePooling2D(pool_size=(2, 2), strides=(2, 2), padding=\"valid\"),\n",
        "\n",
        "\n",
        "        layers.Flatten(),\n",
        "        layers.Dense(120, activation='relu'),\n",
        "        layers.Dropout(0.4),\n",
        "        layers.Dense(84, activation='relu'),\n",
        "        layers.Dropout(0.3),\n",
        "        #layers.Dense(10, activation='relu'),\n",
        "        #layers.Dropout(0.3),\n",
        "        layers.Dense(10, activation='softmax'),\n",
        "    ]\n",
        ")\n",
        "model.summary()"
      ],
      "metadata": {
        "colab": {
          "base_uri": "https://localhost:8080/"
        },
        "id": "DmtEoVhq2_JH",
        "outputId": "91047bd9-e654-4d82-d2d6-e96adf75ae87"
      },
      "execution_count": null,
      "outputs": [
        {
          "output_type": "stream",
          "name": "stdout",
          "text": [
            "Model: \"sequential_11\"\n",
            "_________________________________________________________________\n",
            " Layer (type)                Output Shape              Param #   \n",
            "=================================================================\n",
            " conv2d_22 (Conv2D)          (None, 32, 32, 6)         60        \n",
            "                                                                 \n",
            " average_pooling2d_22 (Avera  (None, 16, 16, 6)        0         \n",
            " gePooling2D)                                                    \n",
            "                                                                 \n",
            " conv2d_23 (Conv2D)          (None, 8, 8, 16)          880       \n",
            "                                                                 \n",
            " average_pooling2d_23 (Avera  (None, 4, 4, 16)         0         \n",
            " gePooling2D)                                                    \n",
            "                                                                 \n",
            " flatten_11 (Flatten)        (None, 256)               0         \n",
            "                                                                 \n",
            " dense_33 (Dense)            (None, 120)               30840     \n",
            "                                                                 \n",
            " dropout_22 (Dropout)        (None, 120)               0         \n",
            "                                                                 \n",
            " dense_34 (Dense)            (None, 84)                10164     \n",
            "                                                                 \n",
            " dropout_23 (Dropout)        (None, 84)                0         \n",
            "                                                                 \n",
            " dense_35 (Dense)            (None, 10)                850       \n",
            "                                                                 \n",
            "=================================================================\n",
            "Total params: 42,794\n",
            "Trainable params: 42,794\n",
            "Non-trainable params: 0\n",
            "_________________________________________________________________\n"
          ]
        }
      ]
    },
    {
      "cell_type": "code",
      "source": [
        "model.compile(optimizer=\"adam\" ,loss=tf.keras.losses.SparseCategoricalCrossentropy(from_logits=True), metrics=[\"accuracy\"])\n",
        "\n",
        "history = model.fit(x_train, y_train, epochs=25, validation_data=(x_val, y_val))"
      ],
      "metadata": {
        "colab": {
          "base_uri": "https://localhost:8080/"
        },
        "id": "pAGDngbG8o2j",
        "outputId": "eb6904ad-8373-4a4d-cf27-49a621fecfde"
      },
      "execution_count": null,
      "outputs": [
        {
          "output_type": "stream",
          "name": "stdout",
          "text": [
            "Epoch 1/25\n",
            "164/164 [==============================] - 1s 5ms/step - loss: 2.2383 - accuracy: 0.2784 - val_loss: 1.5786 - val_accuracy: 0.4551\n",
            "Epoch 2/25\n",
            "164/164 [==============================] - 1s 4ms/step - loss: 1.6356 - accuracy: 0.3996 - val_loss: 1.3671 - val_accuracy: 0.5220\n",
            "Epoch 3/25\n",
            "164/164 [==============================] - 1s 5ms/step - loss: 1.4680 - accuracy: 0.4670 - val_loss: 1.2536 - val_accuracy: 0.5501\n",
            "Epoch 4/25\n",
            "164/164 [==============================] - 1s 4ms/step - loss: 1.3386 - accuracy: 0.5212 - val_loss: 1.1834 - val_accuracy: 0.5884\n",
            "Epoch 5/25\n",
            "164/164 [==============================] - 1s 5ms/step - loss: 1.2382 - accuracy: 0.5580 - val_loss: 1.0504 - val_accuracy: 0.6606\n",
            "Epoch 6/25\n",
            "164/164 [==============================] - 1s 4ms/step - loss: 1.1427 - accuracy: 0.5997 - val_loss: 1.0128 - val_accuracy: 0.6629\n",
            "Epoch 7/25\n",
            "164/164 [==============================] - 1s 4ms/step - loss: 1.0921 - accuracy: 0.6176 - val_loss: 0.9555 - val_accuracy: 0.6898\n",
            "Epoch 8/25\n",
            "164/164 [==============================] - 1s 4ms/step - loss: 1.0393 - accuracy: 0.6449 - val_loss: 0.9352 - val_accuracy: 0.7018\n",
            "Epoch 9/25\n",
            "164/164 [==============================] - 1s 4ms/step - loss: 0.9780 - accuracy: 0.6625 - val_loss: 0.8661 - val_accuracy: 0.7132\n",
            "Epoch 10/25\n",
            "164/164 [==============================] - 1s 4ms/step - loss: 0.9516 - accuracy: 0.6686 - val_loss: 0.8253 - val_accuracy: 0.7453\n",
            "Epoch 11/25\n",
            "164/164 [==============================] - 1s 4ms/step - loss: 0.8824 - accuracy: 0.6982 - val_loss: 0.8055 - val_accuracy: 0.7447\n",
            "Epoch 12/25\n",
            "164/164 [==============================] - 1s 4ms/step - loss: 0.8652 - accuracy: 0.7068 - val_loss: 0.8079 - val_accuracy: 0.7453\n",
            "Epoch 13/25\n",
            "164/164 [==============================] - 1s 4ms/step - loss: 0.8410 - accuracy: 0.7104 - val_loss: 0.7691 - val_accuracy: 0.7527\n",
            "Epoch 14/25\n",
            "164/164 [==============================] - 1s 4ms/step - loss: 0.8000 - accuracy: 0.7323 - val_loss: 0.7664 - val_accuracy: 0.7521\n",
            "Epoch 15/25\n",
            "164/164 [==============================] - 1s 4ms/step - loss: 0.7653 - accuracy: 0.7375 - val_loss: 0.7750 - val_accuracy: 0.7487\n",
            "Epoch 16/25\n",
            "164/164 [==============================] - 1s 4ms/step - loss: 0.7284 - accuracy: 0.7505 - val_loss: 0.7394 - val_accuracy: 0.7750\n",
            "Epoch 17/25\n",
            "164/164 [==============================] - 1s 4ms/step - loss: 0.6955 - accuracy: 0.7577 - val_loss: 0.7268 - val_accuracy: 0.7653\n",
            "Epoch 18/25\n",
            "164/164 [==============================] - 1s 4ms/step - loss: 0.6871 - accuracy: 0.7642 - val_loss: 0.7137 - val_accuracy: 0.7705\n",
            "Epoch 19/25\n",
            "164/164 [==============================] - 1s 4ms/step - loss: 0.6519 - accuracy: 0.7805 - val_loss: 0.6815 - val_accuracy: 0.7945\n",
            "Epoch 20/25\n",
            "164/164 [==============================] - 1s 4ms/step - loss: 0.6428 - accuracy: 0.7875 - val_loss: 0.7121 - val_accuracy: 0.7773\n",
            "Epoch 21/25\n",
            "164/164 [==============================] - 1s 4ms/step - loss: 0.6290 - accuracy: 0.7848 - val_loss: 0.7260 - val_accuracy: 0.7739\n",
            "Epoch 22/25\n",
            "164/164 [==============================] - 1s 4ms/step - loss: 0.6152 - accuracy: 0.7889 - val_loss: 0.7219 - val_accuracy: 0.7693\n",
            "Epoch 23/25\n",
            "164/164 [==============================] - 1s 5ms/step - loss: 0.5723 - accuracy: 0.8013 - val_loss: 0.6809 - val_accuracy: 0.7916\n",
            "Epoch 24/25\n",
            "164/164 [==============================] - 1s 4ms/step - loss: 0.5914 - accuracy: 0.7946 - val_loss: 0.6836 - val_accuracy: 0.7808\n",
            "Epoch 25/25\n",
            "164/164 [==============================] - 1s 4ms/step - loss: 0.5558 - accuracy: 0.8085 - val_loss: 0.6857 - val_accuracy: 0.7813\n"
          ]
        }
      ]
    }
  ],
  "metadata": {
    "accelerator": "GPU",
    "colab": {
      "provenance": [],
      "collapsed_sections": [],
      "include_colab_link": true
    },
    "kernelspec": {
      "display_name": "Python 3",
      "name": "python3"
    },
    "language_info": {
      "name": "python"
    }
  },
  "nbformat": 4,
  "nbformat_minor": 0
}