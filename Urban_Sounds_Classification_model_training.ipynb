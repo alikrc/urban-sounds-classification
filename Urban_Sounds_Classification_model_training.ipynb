{
  "cells": [
    {
      "cell_type": "markdown",
      "metadata": {
        "id": "view-in-github",
        "colab_type": "text"
      },
      "source": [
        "<a href=\"https://colab.research.google.com/github/alikrc/urban-sounds-classification/blob/main/Urban_Sounds_Classification_model_training.ipynb\" target=\"_parent\"><img src=\"https://colab.research.google.com/assets/colab-badge.svg\" alt=\"Open In Colab\"/></a>"
      ]
    },
    {
      "cell_type": "code",
      "source": [
        "from cv2 import imshow\n",
        "import tensorflow as tf\n",
        "import cv2 \n",
        "import glob\n",
        "# from PIL import Image\n",
        "import pandas as pd\n",
        "import numpy as np\n",
        "import math\n",
        "import sklearn\n",
        "import sklearn.model_selection as ms\n",
        "from google.colab.patches import cv2_imshow\n",
        "from tensorflow import keras\n",
        "from tensorflow.keras import layers"
      ],
      "metadata": {
        "id": "UzyUNUHIYzaU"
      },
      "execution_count": 4,
      "outputs": []
    },
    {
      "cell_type": "code",
      "source": [
        "from google.colab import drive\n",
        "drive.mount('/content/drive')"
      ],
      "metadata": {
        "colab": {
          "base_uri": "https://localhost:8080/"
        },
        "id": "gIyjY8oVqgcx",
        "outputId": "08f16fd8-24fb-4158-fb49-3dd63fe0037f"
      },
      "execution_count": 5,
      "outputs": [
        {
          "output_type": "stream",
          "name": "stdout",
          "text": [
            "Drive already mounted at /content/drive; to attempt to forcibly remount, call drive.mount(\"/content/drive\", force_remount=True).\n"
          ]
        }
      ]
    },
    {
      "cell_type": "code",
      "source": [
        "base_path = '/content/drive/MyDrive/soundsClassification/'\n",
        "\n",
        "x_train=np.load(base_path+'x_train.npy')\n",
        "y_train=np.load(base_path+'y_train.npy')\n",
        "x_val=np.load(base_path+'x_val.npy')\n",
        "y_val=np.load(base_path+'y_val.npy')\n",
        "x_test=np.load(base_path+'x_test.npy')\n",
        "y_test=np.load(base_path+'y_test.npy')\n",
        "\n",
        "cv2_imshow(x_train[0])"
      ],
      "metadata": {
        "id": "JZ_4Z8HG9dNi",
        "colab": {
          "base_uri": "https://localhost:8080/",
          "height": 81
        },
        "outputId": "766ff167-2f65-4174-f9b7-f806b9196c94"
      },
      "execution_count": 6,
      "outputs": [
        {
          "output_type": "display_data",
          "data": {
            "text/plain": [
              "<PIL.Image.Image image mode=L size=64x64 at 0x7FB7EA003490>"
            ],
            "image/png": "[encoded data removed]"
          },
          "metadata": {}
        }
      ]
    },
    {
      "cell_type": "code",
      "source": [
        "np.shape(x_train), np.shape(y_train)"
      ],
      "metadata": {
        "colab": {
          "base_uri": "https://localhost:8080/"
        },
        "id": "Ys6J47A90bD1",
        "outputId": "02b489d9-a98b-413d-a4ec-a642206c6b99"
      },
      "execution_count": 7,
      "outputs": [
        {
          "output_type": "execute_result",
          "data": {
            "text/plain": [
              "((5238, 64, 64), (5238,))"
            ]
          },
          "metadata": {},
          "execution_count": 7
        }
      ]
    },
    {
      "cell_type": "code",
      "source": [
        "np.shape(x_val), np.shape(y_val)"
      ],
      "metadata": {
        "colab": {
          "base_uri": "https://localhost:8080/"
        },
        "id": "Ge2HkQ7M1GS2",
        "outputId": "c699420a-ba5d-4e6c-9867-ef32e08f24b1"
      },
      "execution_count": 8,
      "outputs": [
        {
          "output_type": "execute_result",
          "data": {
            "text/plain": [
              "((1747, 64, 64), (1747,))"
            ]
          },
          "metadata": {},
          "execution_count": 8
        }
      ]
    },
    {
      "cell_type": "code",
      "source": [
        "np.shape(x_test), np.shape(y_test)"
      ],
      "metadata": {
        "colab": {
          "base_uri": "https://localhost:8080/"
        },
        "id": "-Kag-rPw1GKW",
        "outputId": "dc5fc5b2-c06d-48b2-bfc4-ee6eefd2b4c4"
      },
      "execution_count": 9,
      "outputs": [
        {
          "output_type": "execute_result",
          "data": {
            "text/plain": [
              "((1747, 64, 64), (1747,))"
            ]
          },
          "metadata": {},
          "execution_count": 9
        }
      ]
    },
    {
      "cell_type": "code",
      "source": [
        "input_shape = 64\n",
        "model = keras.Sequential(\n",
        "    [\n",
        "        layers.Conv2D(6, kernel_size=(3, 3), strides=(2, 2), padding=\"same\", activation=\"relu\", input_shape=(input_shape, input_shape, 1)),\n",
        "        layers.AveragePooling2D(pool_size=(2, 2), strides=(2, 2),padding=\"valid\"),\n",
        "\n",
        "\n",
        "        layers.Conv2D(16, kernel_size=(3, 3), strides=(2, 2), padding=\"same\", activation=\"relu\"),\n",
        "        layers.AveragePooling2D(pool_size=(2, 2), strides=(2, 2), padding=\"valid\"),\n",
        "\n",
        "\n",
        "        layers.Flatten(),\n",
        "        layers.Dense(120, activation='relu'),\n",
        "        layers.Dropout(0.4),\n",
        "        layers.Dense(84, activation='relu'),\n",
        "        layers.Dropout(0.3),\n",
        "        #layers.Dense(10, activation='relu'),\n",
        "        #layers.Dropout(0.3),\n",
        "        layers.Dense(10, activation='softmax'),\n",
        "    ]\n",
        ")\n",
        "model.summary()"
      ],
      "metadata": {
        "colab": {
          "base_uri": "https://localhost:8080/"
        },
        "id": "DmtEoVhq2_JH",
        "outputId": "dc2d21a1-f014-4f88-af15-d24af4d2059c"
      },
      "execution_count": 12,
      "outputs": [
        {
          "output_type": "stream",
          "name": "stdout",
          "text": [
            "Model: \"sequential_1\"\n",
            "_________________________________________________________________\n",
            " Layer (type)                Output Shape              Param #   \n",
            "=================================================================\n",
            " conv2d_2 (Conv2D)           (None, 32, 32, 6)         60        \n",
            "                                                                 \n",
            " average_pooling2d_2 (Averag  (None, 16, 16, 6)        0         \n",
            " ePooling2D)                                                     \n",
            "                                                                 \n",
            " conv2d_3 (Conv2D)           (None, 8, 8, 16)          880       \n",
            "                                                                 \n",
            " average_pooling2d_3 (Averag  (None, 4, 4, 16)         0         \n",
            " ePooling2D)                                                     \n",
            "                                                                 \n",
            " flatten_1 (Flatten)         (None, 256)               0         \n",
            "                                                                 \n",
            " dense_3 (Dense)             (None, 120)               30840     \n",
            "                                                                 \n",
            " dropout_2 (Dropout)         (None, 120)               0         \n",
            "                                                                 \n",
            " dense_4 (Dense)             (None, 84)                10164     \n",
            "                                                                 \n",
            " dropout_3 (Dropout)         (None, 84)                0         \n",
            "                                                                 \n",
            " dense_5 (Dense)             (None, 10)                850       \n",
            "                                                                 \n",
            "=================================================================\n",
            "Total params: 42,794\n",
            "Trainable params: 42,794\n",
            "Non-trainable params: 0\n",
            "_________________________________________________________________\n"
          ]
        }
      ]
    },
    {
      "cell_type": "code",
      "source": [
        "model.compile(optimizer=\"adam\" ,loss=tf.keras.losses.SparseCategoricalCrossentropy(from_logits=True), metrics=[\"accuracy\"])\n",
        "\n",
        "history = model.fit(x_train, y_train, epochs=25, validation_data=(x_val, y_val))"
      ],
      "metadata": {
        "colab": {
          "base_uri": "https://localhost:8080/"
        },
        "id": "pAGDngbG8o2j",
        "outputId": "f38aab2c-0da9-4d45-cb12-858f84d6e735"
      },
      "execution_count": 13,
      "outputs": [
        {
          "output_type": "stream",
          "name": "stdout",
          "text": [
            "Epoch 1/25\n"
          ]
        },
        {
          "output_type": "stream",
          "name": "stderr",
          "text": [
            "/usr/local/lib/python3.7/dist-packages/tensorflow/python/util/dispatch.py:1082: UserWarning: \"`sparse_categorical_crossentropy` received `from_logits=True`, but the `output` argument was produced by a sigmoid or softmax activation and thus does not represent logits. Was this intended?\"\n",
            "  return dispatch_target(*args, **kwargs)\n"
          ]
        },
        {
          "output_type": "stream",
          "name": "stdout",
          "text": [
            "164/164 [==============================] - 13s 5ms/step - loss: 2.9617 - accuracy: 0.2159 - val_loss: 1.7710 - val_accuracy: 0.3864\n",
            "Epoch 2/25\n",
            "164/164 [==============================] - 1s 4ms/step - loss: 1.8084 - accuracy: 0.3415 - val_loss: 1.5894 - val_accuracy: 0.4379\n",
            "Epoch 3/25\n",
            "164/164 [==============================] - 1s 5ms/step - loss: 1.6799 - accuracy: 0.3877 - val_loss: 1.4773 - val_accuracy: 0.4711\n",
            "Epoch 4/25\n",
            "164/164 [==============================] - 1s 4ms/step - loss: 1.5751 - accuracy: 0.4376 - val_loss: 1.3779 - val_accuracy: 0.4974\n",
            "Epoch 5/25\n",
            "164/164 [==============================] - 1s 4ms/step - loss: 1.4896 - accuracy: 0.4754 - val_loss: 1.3149 - val_accuracy: 0.5438\n",
            "Epoch 6/25\n",
            "164/164 [==============================] - 1s 4ms/step - loss: 1.4148 - accuracy: 0.5008 - val_loss: 1.2818 - val_accuracy: 0.5753\n",
            "Epoch 7/25\n",
            "164/164 [==============================] - 1s 4ms/step - loss: 1.3372 - accuracy: 0.5336 - val_loss: 1.2319 - val_accuracy: 0.5873\n",
            "Epoch 8/25\n",
            "164/164 [==============================] - 1s 4ms/step - loss: 1.2711 - accuracy: 0.5577 - val_loss: 1.1417 - val_accuracy: 0.6199\n",
            "Epoch 9/25\n",
            "164/164 [==============================] - 1s 5ms/step - loss: 1.2069 - accuracy: 0.5811 - val_loss: 1.1175 - val_accuracy: 0.6325\n",
            "Epoch 10/25\n",
            "164/164 [==============================] - 1s 4ms/step - loss: 1.1777 - accuracy: 0.5855 - val_loss: 1.1129 - val_accuracy: 0.6382\n",
            "Epoch 11/25\n",
            "164/164 [==============================] - 1s 4ms/step - loss: 1.1109 - accuracy: 0.6096 - val_loss: 1.0215 - val_accuracy: 0.6875\n",
            "Epoch 12/25\n",
            "164/164 [==============================] - 1s 5ms/step - loss: 1.0604 - accuracy: 0.6378 - val_loss: 0.9983 - val_accuracy: 0.6760\n",
            "Epoch 13/25\n",
            "164/164 [==============================] - 1s 4ms/step - loss: 1.0322 - accuracy: 0.6489 - val_loss: 0.9540 - val_accuracy: 0.7029\n",
            "Epoch 14/25\n",
            "164/164 [==============================] - 1s 4ms/step - loss: 0.9712 - accuracy: 0.6733 - val_loss: 0.9564 - val_accuracy: 0.6955\n",
            "Epoch 15/25\n",
            "164/164 [==============================] - 1s 4ms/step - loss: 0.9478 - accuracy: 0.6833 - val_loss: 0.9569 - val_accuracy: 0.6926\n",
            "Epoch 16/25\n",
            "164/164 [==============================] - 1s 4ms/step - loss: 0.9478 - accuracy: 0.6856 - val_loss: 0.9446 - val_accuracy: 0.6983\n",
            "Epoch 17/25\n",
            "164/164 [==============================] - 1s 4ms/step - loss: 0.9065 - accuracy: 0.6919 - val_loss: 0.8756 - val_accuracy: 0.7361\n",
            "Epoch 18/25\n",
            "164/164 [==============================] - 1s 4ms/step - loss: 0.8413 - accuracy: 0.7127 - val_loss: 0.8820 - val_accuracy: 0.7287\n",
            "Epoch 19/25\n",
            "164/164 [==============================] - 1s 5ms/step - loss: 0.8279 - accuracy: 0.7163 - val_loss: 0.8810 - val_accuracy: 0.7327\n",
            "Epoch 20/25\n",
            "164/164 [==============================] - 1s 4ms/step - loss: 0.8383 - accuracy: 0.7176 - val_loss: 0.8507 - val_accuracy: 0.7378\n",
            "Epoch 21/25\n",
            "164/164 [==============================] - 1s 4ms/step - loss: 0.7980 - accuracy: 0.7297 - val_loss: 0.8245 - val_accuracy: 0.7487\n",
            "Epoch 22/25\n",
            "164/164 [==============================] - 1s 4ms/step - loss: 0.7759 - accuracy: 0.7360 - val_loss: 0.8400 - val_accuracy: 0.7487\n",
            "Epoch 23/25\n",
            "164/164 [==============================] - 1s 4ms/step - loss: 0.7709 - accuracy: 0.7369 - val_loss: 0.8742 - val_accuracy: 0.7333\n",
            "Epoch 24/25\n",
            "164/164 [==============================] - 1s 4ms/step - loss: 0.7383 - accuracy: 0.7480 - val_loss: 0.8243 - val_accuracy: 0.7396\n",
            "Epoch 25/25\n",
            "164/164 [==============================] - 1s 4ms/step - loss: 0.7078 - accuracy: 0.7543 - val_loss: 0.8118 - val_accuracy: 0.7470\n"
          ]
        }
      ]
    }
  ],
  "metadata": {
    "accelerator": "GPU",
    "colab": {
      "provenance": [],
      "collapsed_sections": [],
      "include_colab_link": true
    },
    "kernelspec": {
      "display_name": "Python 3",
      "name": "python3"
    },
    "language_info": {
      "name": "python"
    }
  },
  "nbformat": 4,
  "nbformat_minor": 0
}