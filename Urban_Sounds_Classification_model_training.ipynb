{
  "cells": [
    {
      "cell_type": "markdown",
      "metadata": {
        "id": "view-in-github",
        "colab_type": "text"
      },
      "source": [
        "<a href=\"https://colab.research.google.com/github/alikrc/urban-sounds-classification/blob/main/Urban_Sounds_Classification_model_training.ipynb\" target=\"_parent\"><img src=\"https://colab.research.google.com/assets/colab-badge.svg\" alt=\"Open In Colab\"/></a>"
      ]
    },
    {
      "cell_type": "code",
      "source": [
        "from cv2 import imshow\n",
        "import tensorflow as tf\n",
        "import cv2 \n",
        "import glob\n",
        "# from PIL import Image\n",
        "import pandas as pd\n",
        "import numpy as np\n",
        "import math\n",
        "import sklearn\n",
        "import sklearn.model_selection as ms\n",
        "from google.colab.patches import cv2_imshow\n",
        "from tensorflow import keras\n",
        "from tensorflow.keras import layers"
      ],
      "metadata": {
        "id": "UzyUNUHIYzaU"
      },
      "execution_count": 4,
      "outputs": []
    },
    {
      "cell_type": "code",
      "source": [
        "from google.colab import drive\n",
        "drive.mount('/content/drive')"
      ],
      "metadata": {
        "colab": {
          "base_uri": "https://localhost:8080/"
        },
        "id": "gIyjY8oVqgcx",
        "outputId": "08f16fd8-24fb-4158-fb49-3dd63fe0037f"
      },
      "execution_count": 5,
      "outputs": [
        {
          "output_type": "stream",
          "name": "stdout",
          "text": [
            "Drive already mounted at /content/drive; to attempt to forcibly remount, call drive.mount(\"/content/drive\", force_remount=True).\n"
          ]
        }
      ]
    },
    {
      "cell_type": "code",
      "source": [
        "base_path = '/content/drive/MyDrive/soundsClassification/'\n",
        "\n",
        "x_train=np.load(base_path+'x_train.npy')\n",
        "y_train=np.load(base_path+'y_train.npy')\n",
        "x_val=np.load(base_path+'x_val.npy')\n",
        "y_val=np.load(base_path+'y_val.npy')\n",
        "x_test=np.load(base_path+'x_test.npy')\n",
        "y_test=np.load(base_path+'y_test.npy')\n",
        "\n",
        "cv2_imshow(x_train[0])"
      ],
      "metadata": {
        "id": "JZ_4Z8HG9dNi",
        "colab": {
          "base_uri": "https://localhost:8080/",
          "height": 81
        },
        "outputId": "766ff167-2f65-4174-f9b7-f806b9196c94"
      },
      "execution_count": 6,
      "outputs": [
        {
          "output_type": "display_data",
          "data": {
            "text/plain": [
              "<PIL.Image.Image image mode=L size=64x64 at 0x7FB7EA003490>"
            ],
            "image/png": "[encoded data removed]"
          },
          "metadata": {}
        }
      ]
    },
    {
      "cell_type": "code",
      "source": [
        "np.shape(x_train), np.shape(y_train)"
      ],
      "metadata": {
        "colab": {
          "base_uri": "https://localhost:8080/"
        },
        "id": "Ys6J47A90bD1",
        "outputId": "02b489d9-a98b-413d-a4ec-a642206c6b99"
      },
      "execution_count": 7,
      "outputs": [
        {
          "output_type": "execute_result",
          "data": {
            "text/plain": [
              "((5238, 64, 64), (5238,))"
            ]
          },
          "metadata": {},
          "execution_count": 7
        }
      ]
    },
    {
      "cell_type": "code",
      "source": [
        "np.shape(x_val), np.shape(y_val)"
      ],
      "metadata": {
        "colab": {
          "base_uri": "https://localhost:8080/"
        },
        "id": "Ge2HkQ7M1GS2",
        "outputId": "c699420a-ba5d-4e6c-9867-ef32e08f24b1"
      },
      "execution_count": 8,
      "outputs": [
        {
          "output_type": "execute_result",
          "data": {
            "text/plain": [
              "((1747, 64, 64), (1747,))"
            ]
          },
          "metadata": {},
          "execution_count": 8
        }
      ]
    },
    {
      "cell_type": "code",
      "source": [
        "np.shape(x_test), np.shape(y_test)"
      ],
      "metadata": {
        "colab": {
          "base_uri": "https://localhost:8080/"
        },
        "id": "-Kag-rPw1GKW",
        "outputId": "dc5fc5b2-c06d-48b2-bfc4-ee6eefd2b4c4"
      },
      "execution_count": 9,
      "outputs": [
        {
          "output_type": "execute_result",
          "data": {
            "text/plain": [
              "((1747, 64, 64), (1747,))"
            ]
          },
          "metadata": {},
          "execution_count": 9
        }
      ]
    },
    {
      "cell_type": "code",
      "source": [
        "input_shape = 64\n",
        "model = keras.Sequential(\n",
        "    [\n",
        "        layers.Conv2D(6, kernel_size=(3, 3), strides=(2, 2), padding=\"same\", activation=\"relu\", input_shape=(input_shape, input_shape, 1)),\n",
        "        layers.AveragePooling2D(pool_size=(2, 2), strides=(2, 2),padding=\"valid\"),\n",
        "\n",
        "\n",
        "        layers.Conv2D(16, kernel_size=(3, 3), strides=(2, 2), padding=\"same\", activation=\"relu\"),\n",
        "        layers.AveragePooling2D(pool_size=(2, 2), strides=(2, 2), padding=\"valid\"),\n",
        "\n",
        "\n",
        "        layers.Flatten(),\n",
        "        layers.Dense(120, activation='relu'),\n",
        "        layers.Dropout(0.4),\n",
        "        layers.Dense(84, activation='relu'),\n",
        "        layers.Dropout(0.3),\n",
        "        #layers.Dense(10, activation='relu'),\n",
        "        #layers.Dropout(0.3),\n",
        "        layers.Dense(10, activation='softmax'),\n",
        "    ]\n",
        ")\n",
        "model.summary()"
      ],
      "metadata": {
        "colab": {
          "base_uri": "https://localhost:8080/"
        },
        "id": "DmtEoVhq2_JH",
        "outputId": "c95bceab-eab3-440a-f2be-b2939d594c39"
      },
      "execution_count": 39,
      "outputs": [
        {
          "output_type": "stream",
          "name": "stdout",
          "text": [
            "Model: \"sequential_14\"\n",
            "_________________________________________________________________\n",
            " Layer (type)                Output Shape              Param #   \n",
            "=================================================================\n",
            " conv2d_28 (Conv2D)          (None, 32, 32, 6)         60        \n",
            "                                                                 \n",
            " average_pooling2d_28 (Avera  (None, 16, 16, 6)        0         \n",
            " gePooling2D)                                                    \n",
            "                                                                 \n",
            " conv2d_29 (Conv2D)          (None, 8, 8, 16)          880       \n",
            "                                                                 \n",
            " average_pooling2d_29 (Avera  (None, 4, 4, 16)         0         \n",
            " gePooling2D)                                                    \n",
            "                                                                 \n",
            " flatten_14 (Flatten)        (None, 256)               0         \n",
            "                                                                 \n",
            " dense_42 (Dense)            (None, 120)               30840     \n",
            "                                                                 \n",
            " dropout_26 (Dropout)        (None, 120)               0         \n",
            "                                                                 \n",
            " dense_43 (Dense)            (None, 84)                10164     \n",
            "                                                                 \n",
            " dropout_27 (Dropout)        (None, 84)                0         \n",
            "                                                                 \n",
            " dense_44 (Dense)            (None, 10)                850       \n",
            "                                                                 \n",
            "=================================================================\n",
            "Total params: 42,794\n",
            "Trainable params: 42,794\n",
            "Non-trainable params: 0\n",
            "_________________________________________________________________\n"
          ]
        }
      ]
    },
    {
      "cell_type": "code",
      "source": [
        "model.compile(optimizer=\"adam\" ,loss=tf.keras.losses.SparseCategoricalCrossentropy(from_logits=True), metrics=[\"accuracy\"])\n",
        "\n",
        "history = model.fit(x_train, y_train, epochs=23, validation_data=(x_val, y_val))"
      ],
      "metadata": {
        "colab": {
          "base_uri": "https://localhost:8080/"
        },
        "id": "pAGDngbG8o2j",
        "outputId": "353f3018-984d-4c01-eb75-092e9429b5a3"
      },
      "execution_count": 40,
      "outputs": [
        {
          "output_type": "stream",
          "name": "stdout",
          "text": [
            "Epoch 1/23\n",
            "164/164 [==============================] - 1s 5ms/step - loss: 2.9554 - accuracy: 0.2497 - val_loss: 1.6199 - val_accuracy: 0.4322\n",
            "Epoch 2/23\n",
            "164/164 [==============================] - 1s 4ms/step - loss: 1.6986 - accuracy: 0.3975 - val_loss: 1.4153 - val_accuracy: 0.5255\n",
            "Epoch 3/23\n",
            "164/164 [==============================] - 1s 4ms/step - loss: 1.5123 - accuracy: 0.4612 - val_loss: 1.3019 - val_accuracy: 0.5501\n",
            "Epoch 4/23\n",
            "164/164 [==============================] - 1s 4ms/step - loss: 1.4125 - accuracy: 0.4998 - val_loss: 1.1848 - val_accuracy: 0.6268\n",
            "Epoch 5/23\n",
            "164/164 [==============================] - 1s 4ms/step - loss: 1.2747 - accuracy: 0.5582 - val_loss: 1.1406 - val_accuracy: 0.6314\n",
            "Epoch 6/23\n",
            "164/164 [==============================] - 1s 4ms/step - loss: 1.2271 - accuracy: 0.5771 - val_loss: 1.1133 - val_accuracy: 0.6497\n",
            "Epoch 7/23\n",
            "164/164 [==============================] - 1s 4ms/step - loss: 1.1462 - accuracy: 0.6067 - val_loss: 1.0111 - val_accuracy: 0.6657\n",
            "Epoch 8/23\n",
            "164/164 [==============================] - 1s 4ms/step - loss: 1.0839 - accuracy: 0.6212 - val_loss: 1.0370 - val_accuracy: 0.6531\n",
            "Epoch 9/23\n",
            "164/164 [==============================] - 1s 4ms/step - loss: 1.0179 - accuracy: 0.6485 - val_loss: 0.9563 - val_accuracy: 0.6852\n",
            "Epoch 10/23\n",
            "164/164 [==============================] - 1s 4ms/step - loss: 0.9882 - accuracy: 0.6646 - val_loss: 0.8962 - val_accuracy: 0.7167\n",
            "Epoch 11/23\n",
            "164/164 [==============================] - 1s 4ms/step - loss: 0.9392 - accuracy: 0.6812 - val_loss: 0.8659 - val_accuracy: 0.7241\n",
            "Epoch 12/23\n",
            "164/164 [==============================] - 1s 4ms/step - loss: 0.8964 - accuracy: 0.6913 - val_loss: 0.8567 - val_accuracy: 0.7264\n",
            "Epoch 13/23\n",
            "164/164 [==============================] - 1s 4ms/step - loss: 0.8456 - accuracy: 0.7115 - val_loss: 0.7991 - val_accuracy: 0.7384\n",
            "Epoch 14/23\n",
            "164/164 [==============================] - 1s 4ms/step - loss: 0.8419 - accuracy: 0.7161 - val_loss: 0.8059 - val_accuracy: 0.7516\n",
            "Epoch 15/23\n",
            "164/164 [==============================] - 1s 4ms/step - loss: 0.7821 - accuracy: 0.7388 - val_loss: 0.7799 - val_accuracy: 0.7487\n",
            "Epoch 16/23\n",
            "164/164 [==============================] - 1s 4ms/step - loss: 0.7533 - accuracy: 0.7425 - val_loss: 0.8007 - val_accuracy: 0.7493\n",
            "Epoch 17/23\n",
            "164/164 [==============================] - 1s 4ms/step - loss: 0.7108 - accuracy: 0.7585 - val_loss: 0.7443 - val_accuracy: 0.7584\n",
            "Epoch 18/23\n",
            "164/164 [==============================] - 1s 4ms/step - loss: 0.7272 - accuracy: 0.7545 - val_loss: 0.7350 - val_accuracy: 0.7710\n",
            "Epoch 19/23\n",
            "164/164 [==============================] - 1s 4ms/step - loss: 0.7017 - accuracy: 0.7679 - val_loss: 0.7450 - val_accuracy: 0.7665\n",
            "Epoch 20/23\n",
            "164/164 [==============================] - 1s 4ms/step - loss: 0.6628 - accuracy: 0.7768 - val_loss: 0.7528 - val_accuracy: 0.7624\n",
            "Epoch 21/23\n",
            "164/164 [==============================] - 1s 4ms/step - loss: 0.6230 - accuracy: 0.7913 - val_loss: 0.7462 - val_accuracy: 0.7573\n",
            "Epoch 22/23\n",
            "164/164 [==============================] - 1s 4ms/step - loss: 0.6196 - accuracy: 0.7852 - val_loss: 0.7751 - val_accuracy: 0.7705\n",
            "Epoch 23/23\n",
            "164/164 [==============================] - 1s 4ms/step - loss: 0.5911 - accuracy: 0.7946 - val_loss: 0.6852 - val_accuracy: 0.7905\n"
          ]
        }
      ]
    }
  ],
  "metadata": {
    "accelerator": "GPU",
    "colab": {
      "provenance": [],
      "collapsed_sections": [],
      "include_colab_link": true
    },
    "kernelspec": {
      "display_name": "Python 3",
      "name": "python3"
    },
    "language_info": {
      "name": "python"
    }
  },
  "nbformat": 4,
  "nbformat_minor": 0
}