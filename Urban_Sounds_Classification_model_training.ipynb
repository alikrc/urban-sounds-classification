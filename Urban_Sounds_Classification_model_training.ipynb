{
  "cells": [
    {
      "cell_type": "markdown",
      "metadata": {
        "id": "view-in-github",
        "colab_type": "text"
      },
      "source": [
        "<a href=\"https://colab.research.google.com/github/alikrc/urban-sounds-classification/blob/main/Urban_Sounds_Classification_model_training.ipynb\" target=\"_parent\"><img src=\"https://colab.research.google.com/assets/colab-badge.svg\" alt=\"Open In Colab\"/></a>"
      ]
    },
    {
      "cell_type": "code",
      "source": [
        "from cv2 import imshow\n",
        "import tensorflow as tf\n",
        "import cv2 \n",
        "import glob\n",
        "# from PIL import Image\n",
        "import pandas as pd\n",
        "import numpy as np\n",
        "import math\n",
        "import sklearn\n",
        "import sklearn.model_selection as ms\n",
        "from google.colab.patches import cv2_imshow\n",
        "from tensorflow import keras\n",
        "from tensorflow.keras import layers\n",
        "import matplotlib.pyplot as plt"
      ],
      "metadata": {
        "id": "UzyUNUHIYzaU"
      },
      "execution_count": 10,
      "outputs": []
    },
    {
      "cell_type": "code",
      "source": [
        "from google.colab import drive\n",
        "drive.mount('/content/drive')"
      ],
      "metadata": {
        "colab": {
          "base_uri": "https://localhost:8080/"
        },
        "id": "gIyjY8oVqgcx",
        "outputId": "190041d6-b99d-488c-cddc-7c8dcff7ad63"
      },
      "execution_count": 11,
      "outputs": [
        {
          "output_type": "stream",
          "name": "stdout",
          "text": [
            "Drive already mounted at /content/drive; to attempt to forcibly remount, call drive.mount(\"/content/drive\", force_remount=True).\n"
          ]
        }
      ]
    },
    {
      "cell_type": "code",
      "source": [
        "base_path = '/content/drive/MyDrive/soundsClassification/'\n",
        "\n",
        "x_train=np.load(base_path+'x_train.npy')\n",
        "y_train=np.load(base_path+'y_train.npy')\n",
        "x_val=np.load(base_path+'x_val.npy')\n",
        "y_val=np.load(base_path+'y_val.npy')\n",
        "x_test=np.load(base_path+'x_test.npy')\n",
        "y_test=np.load(base_path+'y_test.npy')\n",
        "\n",
        "cv2_imshow(x_train[0])"
      ],
      "metadata": {
        "id": "JZ_4Z8HG9dNi",
        "colab": {
          "base_uri": "https://localhost:8080/",
          "height": 81
        },
        "outputId": "fb644b80-7136-4b83-feb4-2e31d965f3c0"
      },
      "execution_count": 12,
      "outputs": [
        {
          "output_type": "display_data",
          "data": {
            "text/plain": [
              "<PIL.Image.Image image mode=L size=64x64 at 0x7F5414039E50>"
            ],
            "image/png": "[encoded data removed]"
          },
          "metadata": {}
        }
      ]
    },
    {
      "cell_type": "code",
      "source": [
        "np.shape(x_train), np.shape(y_train)"
      ],
      "metadata": {
        "colab": {
          "base_uri": "https://localhost:8080/"
        },
        "id": "Ys6J47A90bD1",
        "outputId": "7ca6eb57-6d43-4d50-9f24-7dea325ad0ae"
      },
      "execution_count": 13,
      "outputs": [
        {
          "output_type": "execute_result",
          "data": {
            "text/plain": [
              "((5238, 64, 64), (5238,))"
            ]
          },
          "metadata": {},
          "execution_count": 13
        }
      ]
    },
    {
      "cell_type": "code",
      "source": [
        "np.shape(x_val), np.shape(y_val)"
      ],
      "metadata": {
        "colab": {
          "base_uri": "https://localhost:8080/"
        },
        "id": "Ge2HkQ7M1GS2",
        "outputId": "f0970c3c-4723-45f2-cb38-1170017c1632"
      },
      "execution_count": 14,
      "outputs": [
        {
          "output_type": "execute_result",
          "data": {
            "text/plain": [
              "((1747, 64, 64), (1747,))"
            ]
          },
          "metadata": {},
          "execution_count": 14
        }
      ]
    },
    {
      "cell_type": "code",
      "source": [
        "np.shape(x_test), np.shape(y_test)"
      ],
      "metadata": {
        "colab": {
          "base_uri": "https://localhost:8080/"
        },
        "id": "-Kag-rPw1GKW",
        "outputId": "6670bd71-74c9-4bd8-ebf5-49de7696052f"
      },
      "execution_count": 15,
      "outputs": [
        {
          "output_type": "execute_result",
          "data": {
            "text/plain": [
              "((1747, 64, 64), (1747,))"
            ]
          },
          "metadata": {},
          "execution_count": 15
        }
      ]
    },
    {
      "cell_type": "code",
      "source": [
        "input_shape = 64\n",
        "model = keras.Sequential(\n",
        "    [\n",
        "        layers.Conv2D(6, kernel_size=(3, 3), strides=(2, 2), padding=\"same\", activation=\"relu\", input_shape=(input_shape, input_shape, 1)),\n",
        "        layers.AveragePooling2D(pool_size=(2, 2), strides=(2, 2),padding=\"valid\"),\n",
        "\n",
        "\n",
        "        layers.Conv2D(16, kernel_size=(3, 3), strides=(2, 2), padding=\"same\", activation=\"relu\"),\n",
        "        layers.AveragePooling2D(pool_size=(2, 2), strides=(2, 2), padding=\"valid\"),\n",
        "\n",
        "\n",
        "        layers.Flatten(),\n",
        "        layers.Dense(120, activation='relu'),\n",
        "        layers.Dropout(0.4),\n",
        "        layers.Dense(84, activation='relu'),\n",
        "        layers.Dropout(0.3),\n",
        "        #layers.Dense(10, activation='relu'),\n",
        "        #layers.Dropout(0.3),\n",
        "        layers.Dense(10, activation='softmax'),\n",
        "    ]\n",
        ")\n",
        "model.summary()"
      ],
      "metadata": {
        "colab": {
          "base_uri": "https://localhost:8080/"
        },
        "id": "DmtEoVhq2_JH",
        "outputId": "fa141855-4525-4c0e-ee55-25f1ed044bea"
      },
      "execution_count": 16,
      "outputs": [
        {
          "output_type": "stream",
          "name": "stdout",
          "text": [
            "Model: \"sequential_1\"\n",
            "_________________________________________________________________\n",
            " Layer (type)                Output Shape              Param #   \n",
            "=================================================================\n",
            " conv2d_2 (Conv2D)           (None, 32, 32, 6)         60        \n",
            "                                                                 \n",
            " average_pooling2d_2 (Averag  (None, 16, 16, 6)        0         \n",
            " ePooling2D)                                                     \n",
            "                                                                 \n",
            " conv2d_3 (Conv2D)           (None, 8, 8, 16)          880       \n",
            "                                                                 \n",
            " average_pooling2d_3 (Averag  (None, 4, 4, 16)         0         \n",
            " ePooling2D)                                                     \n",
            "                                                                 \n",
            " flatten_1 (Flatten)         (None, 256)               0         \n",
            "                                                                 \n",
            " dense_3 (Dense)             (None, 120)               30840     \n",
            "                                                                 \n",
            " dropout_2 (Dropout)         (None, 120)               0         \n",
            "                                                                 \n",
            " dense_4 (Dense)             (None, 84)                10164     \n",
            "                                                                 \n",
            " dropout_3 (Dropout)         (None, 84)                0         \n",
            "                                                                 \n",
            " dense_5 (Dense)             (None, 10)                850       \n",
            "                                                                 \n",
            "=================================================================\n",
            "Total params: 42,794\n",
            "Trainable params: 42,794\n",
            "Non-trainable params: 0\n",
            "_________________________________________________________________\n"
          ]
        }
      ]
    },
    {
      "cell_type": "code",
      "source": [
        "model.compile(optimizer=\"adam\" ,loss=tf.keras.losses.SparseCategoricalCrossentropy(from_logits=True), metrics=[\"accuracy\"])\n",
        "\n",
        "history = model.fit(x_train, y_train, epochs=23, validation_data=(x_val, y_val))"
      ],
      "metadata": {
        "colab": {
          "base_uri": "https://localhost:8080/"
        },
        "id": "pAGDngbG8o2j",
        "outputId": "0c109803-296f-41c2-8fd8-855b04ca3719"
      },
      "execution_count": 17,
      "outputs": [
        {
          "output_type": "stream",
          "name": "stdout",
          "text": [
            "Epoch 1/23\n",
            "164/164 [==============================] - 1s 5ms/step - loss: 2.3676 - accuracy: 0.2358 - val_loss: 1.6806 - val_accuracy: 0.4322\n",
            "Epoch 2/23\n",
            "164/164 [==============================] - 1s 4ms/step - loss: 1.7064 - accuracy: 0.3753 - val_loss: 1.4413 - val_accuracy: 0.4946\n",
            "Epoch 3/23\n",
            "164/164 [==============================] - 1s 4ms/step - loss: 1.5710 - accuracy: 0.4366 - val_loss: 1.3162 - val_accuracy: 0.5472\n",
            "Epoch 4/23\n",
            "164/164 [==============================] - 1s 5ms/step - loss: 1.4403 - accuracy: 0.4695 - val_loss: 1.2252 - val_accuracy: 0.5547\n",
            "Epoch 5/23\n",
            "164/164 [==============================] - 1s 4ms/step - loss: 1.3485 - accuracy: 0.5202 - val_loss: 1.1831 - val_accuracy: 0.6039\n",
            "Epoch 6/23\n",
            "164/164 [==============================] - 1s 4ms/step - loss: 1.2657 - accuracy: 0.5468 - val_loss: 1.1269 - val_accuracy: 0.6102\n",
            "Epoch 7/23\n",
            "164/164 [==============================] - 1s 4ms/step - loss: 1.2064 - accuracy: 0.5758 - val_loss: 1.0147 - val_accuracy: 0.6669\n",
            "Epoch 8/23\n",
            "164/164 [==============================] - 1s 4ms/step - loss: 1.1026 - accuracy: 0.6142 - val_loss: 1.0035 - val_accuracy: 0.6697\n",
            "Epoch 9/23\n",
            "164/164 [==============================] - 1s 5ms/step - loss: 1.0710 - accuracy: 0.6235 - val_loss: 0.9448 - val_accuracy: 0.6961\n",
            "Epoch 10/23\n",
            "164/164 [==============================] - 1s 4ms/step - loss: 1.0099 - accuracy: 0.6438 - val_loss: 0.9242 - val_accuracy: 0.6903\n",
            "Epoch 11/23\n",
            "164/164 [==============================] - 1s 4ms/step - loss: 0.9880 - accuracy: 0.6619 - val_loss: 0.9247 - val_accuracy: 0.6880\n",
            "Epoch 12/23\n",
            "164/164 [==============================] - 1s 4ms/step - loss: 0.9390 - accuracy: 0.6718 - val_loss: 0.8774 - val_accuracy: 0.7161\n",
            "Epoch 13/23\n",
            "164/164 [==============================] - 1s 4ms/step - loss: 0.8879 - accuracy: 0.6957 - val_loss: 0.8327 - val_accuracy: 0.7298\n",
            "Epoch 14/23\n",
            "164/164 [==============================] - 1s 4ms/step - loss: 0.8434 - accuracy: 0.7054 - val_loss: 0.7823 - val_accuracy: 0.7487\n",
            "Epoch 15/23\n",
            "164/164 [==============================] - 1s 4ms/step - loss: 0.8083 - accuracy: 0.7169 - val_loss: 0.7768 - val_accuracy: 0.7533\n",
            "Epoch 16/23\n",
            "164/164 [==============================] - 1s 5ms/step - loss: 0.7763 - accuracy: 0.7306 - val_loss: 0.8209 - val_accuracy: 0.7396\n",
            "Epoch 17/23\n",
            "164/164 [==============================] - 1s 4ms/step - loss: 0.7660 - accuracy: 0.7354 - val_loss: 0.7622 - val_accuracy: 0.7499\n",
            "Epoch 18/23\n",
            "164/164 [==============================] - 1s 4ms/step - loss: 0.7435 - accuracy: 0.7373 - val_loss: 0.7434 - val_accuracy: 0.7687\n",
            "Epoch 19/23\n",
            "164/164 [==============================] - 1s 4ms/step - loss: 0.6992 - accuracy: 0.7570 - val_loss: 0.7440 - val_accuracy: 0.7602\n",
            "Epoch 20/23\n",
            "164/164 [==============================] - 1s 4ms/step - loss: 0.6875 - accuracy: 0.7665 - val_loss: 0.7793 - val_accuracy: 0.7602\n",
            "Epoch 21/23\n",
            "164/164 [==============================] - 1s 5ms/step - loss: 0.6809 - accuracy: 0.7654 - val_loss: 0.7015 - val_accuracy: 0.7733\n",
            "Epoch 22/23\n",
            "164/164 [==============================] - 1s 4ms/step - loss: 0.6416 - accuracy: 0.7791 - val_loss: 0.7044 - val_accuracy: 0.7836\n",
            "Epoch 23/23\n",
            "164/164 [==============================] - 1s 4ms/step - loss: 0.6374 - accuracy: 0.7812 - val_loss: 0.6842 - val_accuracy: 0.7865\n"
          ]
        }
      ]
    },
    {
      "cell_type": "code",
      "source": [
        "plt.plot(history.history['accuracy'])\n",
        "plt.title('model accuracy')\n",
        "plt.ylabel('accuracy')\n",
        "plt.xlabel('epcoh')\n",
        "plt.legend(['train'], loc='upper left')\n",
        "plt.show"
      ],
      "metadata": {
        "colab": {
          "base_uri": "https://localhost:8080/",
          "height": 313
        },
        "id": "-Bd66BWoMY-a",
        "outputId": "5d7df9a3-c24b-47a3-ba91-ce67ca9f07a8"
      },
      "execution_count": 18,
      "outputs": [
        {
          "output_type": "execute_result",
          "data": {
            "text/plain": [
              "<function matplotlib.pyplot.show(*args, **kw)>"
            ]
          },
          "metadata": {},
          "execution_count": 18
        },
        {
          "output_type": "display_data",
          "data": {
            "text/plain": [
              "<Figure size 432x288 with 1 Axes>"
            ],
            "image/png": "[encoded data removed]"
          },
          "metadata": {
            "needs_background": "light"
          }
        }
      ]
    },
    {
      "cell_type": "code",
      "source": [
        "plt.plot(history.history['loss'])\n",
        "plt.title('model loss')\n",
        "plt.ylabel('loss')\n",
        "plt.xlabel('epcoh')\n",
        "plt.legend(['train'], loc='upper left')\n",
        "plt.show"
      ],
      "metadata": {
        "colab": {
          "base_uri": "https://localhost:8080/",
          "height": 313
        },
        "id": "MyZ-aik6MtH-",
        "outputId": "3ce1c37d-f769-407f-afbb-79f1349ebcce"
      },
      "execution_count": 19,
      "outputs": [
        {
          "output_type": "execute_result",
          "data": {
            "text/plain": [
              "<function matplotlib.pyplot.show(*args, **kw)>"
            ]
          },
          "metadata": {},
          "execution_count": 19
        },
        {
          "output_type": "display_data",
          "data": {
            "text/plain": [
              "<Figure size 432x288 with 1 Axes>"
            ],
            "image/png": "[encoded data removed]"
          },
          "metadata": {
            "needs_background": "light"
          }
        }
      ]
    }
  ],
  "metadata": {
    "accelerator": "GPU",
    "colab": {
      "provenance": [],
      "collapsed_sections": [],
      "include_colab_link": true
    },
    "kernelspec": {
      "display_name": "Python 3",
      "name": "python3"
    },
    "language_info": {
      "name": "python"
    }
  },
  "nbformat": 4,
  "nbformat_minor": 0
}